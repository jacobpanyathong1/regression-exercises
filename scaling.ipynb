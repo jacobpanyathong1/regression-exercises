{
 "cells": [
  {
   "cell_type": "code",
   "execution_count": 76,
   "id": "9a4554b8",
   "metadata": {},
   "outputs": [],
   "source": [
    "import wrangle as w\n",
    "import seaborn as sns\n",
    "from sklearn.preprocessing import MinMaxScaler\n",
    "from sklearn.preprocessing import StandardScaler\n",
    "from sklearn.preprocessing import quantile_transform\n",
    "import matplotlib.pyplot as plt"
   ]
  },
  {
   "cell_type": "code",
   "execution_count": 16,
   "id": "dcef7171",
   "metadata": {},
   "outputs": [],
   "source": [
    "zillow = w.sql_query_zillow()"
   ]
  },
  {
   "cell_type": "code",
   "execution_count": 17,
   "id": "37068a12",
   "metadata": {},
   "outputs": [
    {
     "data": {
      "text/html": [
       "<div>\n",
       "<style scoped>\n",
       "    .dataframe tbody tr th:only-of-type {\n",
       "        vertical-align: middle;\n",
       "    }\n",
       "\n",
       "    .dataframe tbody tr th {\n",
       "        vertical-align: top;\n",
       "    }\n",
       "\n",
       "    .dataframe thead th {\n",
       "        text-align: right;\n",
       "    }\n",
       "</style>\n",
       "<table border=\"1\" class=\"dataframe\">\n",
       "  <thead>\n",
       "    <tr style=\"text-align: right;\">\n",
       "      <th></th>\n",
       "      <th>Unnamed: 0</th>\n",
       "      <th>bedroomcnt</th>\n",
       "      <th>bathroomcnt</th>\n",
       "      <th>calculatedfinishedsquarefeet</th>\n",
       "      <th>taxvaluedollarcnt</th>\n",
       "      <th>yearbuilt</th>\n",
       "      <th>taxamount</th>\n",
       "      <th>fips</th>\n",
       "    </tr>\n",
       "  </thead>\n",
       "  <tbody>\n",
       "    <tr>\n",
       "      <th>0</th>\n",
       "      <td>0</td>\n",
       "      <td>3.0</td>\n",
       "      <td>2.0</td>\n",
       "      <td>1710.0</td>\n",
       "      <td>475000.0</td>\n",
       "      <td>1966.0</td>\n",
       "      <td>6344.67</td>\n",
       "      <td>6037.0</td>\n",
       "    </tr>\n",
       "    <tr>\n",
       "      <th>1</th>\n",
       "      <td>1</td>\n",
       "      <td>3.0</td>\n",
       "      <td>2.0</td>\n",
       "      <td>1263.0</td>\n",
       "      <td>408200.0</td>\n",
       "      <td>1977.0</td>\n",
       "      <td>5529.20</td>\n",
       "      <td>6037.0</td>\n",
       "    </tr>\n",
       "    <tr>\n",
       "      <th>2</th>\n",
       "      <td>2</td>\n",
       "      <td>3.0</td>\n",
       "      <td>3.0</td>\n",
       "      <td>2207.0</td>\n",
       "      <td>683385.0</td>\n",
       "      <td>1975.0</td>\n",
       "      <td>8426.50</td>\n",
       "      <td>6037.0</td>\n",
       "    </tr>\n",
       "    <tr>\n",
       "      <th>3</th>\n",
       "      <td>3</td>\n",
       "      <td>4.0</td>\n",
       "      <td>3.0</td>\n",
       "      <td>2732.0</td>\n",
       "      <td>740116.0</td>\n",
       "      <td>1970.0</td>\n",
       "      <td>9135.51</td>\n",
       "      <td>6037.0</td>\n",
       "    </tr>\n",
       "    <tr>\n",
       "      <th>4</th>\n",
       "      <td>4</td>\n",
       "      <td>4.0</td>\n",
       "      <td>3.0</td>\n",
       "      <td>2712.0</td>\n",
       "      <td>803000.0</td>\n",
       "      <td>1976.0</td>\n",
       "      <td>9717.48</td>\n",
       "      <td>6037.0</td>\n",
       "    </tr>\n",
       "  </tbody>\n",
       "</table>\n",
       "</div>"
      ],
      "text/plain": [
       "   Unnamed: 0  bedroomcnt  bathroomcnt  calculatedfinishedsquarefeet  \\\n",
       "0           0         3.0          2.0                        1710.0   \n",
       "1           1         3.0          2.0                        1263.0   \n",
       "2           2         3.0          3.0                        2207.0   \n",
       "3           3         4.0          3.0                        2732.0   \n",
       "4           4         4.0          3.0                        2712.0   \n",
       "\n",
       "   taxvaluedollarcnt  yearbuilt  taxamount    fips  \n",
       "0           475000.0     1966.0    6344.67  6037.0  \n",
       "1           408200.0     1977.0    5529.20  6037.0  \n",
       "2           683385.0     1975.0    8426.50  6037.0  \n",
       "3           740116.0     1970.0    9135.51  6037.0  \n",
       "4           803000.0     1976.0    9717.48  6037.0  "
      ]
     },
     "execution_count": 17,
     "metadata": {},
     "output_type": "execute_result"
    }
   ],
   "source": [
    "zillow.head()"
   ]
  },
  {
   "cell_type": "code",
   "execution_count": 18,
   "id": "20c85b31",
   "metadata": {},
   "outputs": [],
   "source": [
    "zillow_df = w.clean_zillow(zillow)"
   ]
  },
  {
   "cell_type": "code",
   "execution_count": 19,
   "id": "bb24abf2",
   "metadata": {},
   "outputs": [
    {
     "data": {
      "text/html": [
       "<div>\n",
       "<style scoped>\n",
       "    .dataframe tbody tr th:only-of-type {\n",
       "        vertical-align: middle;\n",
       "    }\n",
       "\n",
       "    .dataframe tbody tr th {\n",
       "        vertical-align: top;\n",
       "    }\n",
       "\n",
       "    .dataframe thead th {\n",
       "        text-align: right;\n",
       "    }\n",
       "</style>\n",
       "<table border=\"1\" class=\"dataframe\">\n",
       "  <thead>\n",
       "    <tr style=\"text-align: right;\">\n",
       "      <th></th>\n",
       "      <th>count</th>\n",
       "      <th>mean</th>\n",
       "      <th>std</th>\n",
       "      <th>min</th>\n",
       "      <th>25%</th>\n",
       "      <th>50%</th>\n",
       "      <th>75%</th>\n",
       "      <th>max</th>\n",
       "    </tr>\n",
       "  </thead>\n",
       "  <tbody>\n",
       "    <tr>\n",
       "      <th>bedrooms</th>\n",
       "      <td>56080.0</td>\n",
       "      <td>3.289123</td>\n",
       "      <td>0.958752</td>\n",
       "      <td>0.00</td>\n",
       "      <td>3.00</td>\n",
       "      <td>3.00</td>\n",
       "      <td>4.000</td>\n",
       "      <td>25.00</td>\n",
       "    </tr>\n",
       "    <tr>\n",
       "      <th>bathrooms</th>\n",
       "      <td>56080.0</td>\n",
       "      <td>2.239470</td>\n",
       "      <td>1.007008</td>\n",
       "      <td>0.00</td>\n",
       "      <td>2.00</td>\n",
       "      <td>2.00</td>\n",
       "      <td>3.000</td>\n",
       "      <td>20.00</td>\n",
       "    </tr>\n",
       "    <tr>\n",
       "      <th>sqft</th>\n",
       "      <td>56080.0</td>\n",
       "      <td>1868.289081</td>\n",
       "      <td>964.971145</td>\n",
       "      <td>20.00</td>\n",
       "      <td>1262.00</td>\n",
       "      <td>1633.00</td>\n",
       "      <td>2213.000</td>\n",
       "      <td>26345.00</td>\n",
       "    </tr>\n",
       "    <tr>\n",
       "      <th>taxdollars</th>\n",
       "      <td>56080.0</td>\n",
       "      <td>457572.326081</td>\n",
       "      <td>663528.796488</td>\n",
       "      <td>4.58</td>\n",
       "      <td>186982.50</td>\n",
       "      <td>329495.00</td>\n",
       "      <td>533331.750</td>\n",
       "      <td>67506489.00</td>\n",
       "    </tr>\n",
       "    <tr>\n",
       "      <th>year</th>\n",
       "      <td>56080.0</td>\n",
       "      <td>1961.186792</td>\n",
       "      <td>21.946426</td>\n",
       "      <td>1862.00</td>\n",
       "      <td>1949.00</td>\n",
       "      <td>1959.00</td>\n",
       "      <td>1976.000</td>\n",
       "      <td>2016.00</td>\n",
       "    </tr>\n",
       "    <tr>\n",
       "      <th>taxes</th>\n",
       "      <td>56080.0</td>\n",
       "      <td>5576.364033</td>\n",
       "      <td>8536.062617</td>\n",
       "      <td>5.59</td>\n",
       "      <td>2512.68</td>\n",
       "      <td>4123.96</td>\n",
       "      <td>6403.555</td>\n",
       "      <td>1195295.62</td>\n",
       "    </tr>\n",
       "    <tr>\n",
       "      <th>fips</th>\n",
       "      <td>56080.0</td>\n",
       "      <td>6048.841369</td>\n",
       "      <td>21.237479</td>\n",
       "      <td>6037.00</td>\n",
       "      <td>6037.00</td>\n",
       "      <td>6037.00</td>\n",
       "      <td>6059.000</td>\n",
       "      <td>6111.00</td>\n",
       "    </tr>\n",
       "  </tbody>\n",
       "</table>\n",
       "</div>"
      ],
      "text/plain": [
       "              count           mean            std      min        25%  \\\n",
       "bedrooms    56080.0       3.289123       0.958752     0.00       3.00   \n",
       "bathrooms   56080.0       2.239470       1.007008     0.00       2.00   \n",
       "sqft        56080.0    1868.289081     964.971145    20.00    1262.00   \n",
       "taxdollars  56080.0  457572.326081  663528.796488     4.58  186982.50   \n",
       "year        56080.0    1961.186792      21.946426  1862.00    1949.00   \n",
       "taxes       56080.0    5576.364033    8536.062617     5.59    2512.68   \n",
       "fips        56080.0    6048.841369      21.237479  6037.00    6037.00   \n",
       "\n",
       "                  50%         75%          max  \n",
       "bedrooms         3.00       4.000        25.00  \n",
       "bathrooms        2.00       3.000        20.00  \n",
       "sqft          1633.00    2213.000     26345.00  \n",
       "taxdollars  329495.00  533331.750  67506489.00  \n",
       "year          1959.00    1976.000      2016.00  \n",
       "taxes         4123.96    6403.555   1195295.62  \n",
       "fips          6037.00    6059.000      6111.00  "
      ]
     },
     "execution_count": 19,
     "metadata": {},
     "output_type": "execute_result"
    }
   ],
   "source": [
    "zillow_df.describe().T"
   ]
  },
  {
   "cell_type": "code",
   "execution_count": 20,
   "id": "b5a1ed53",
   "metadata": {},
   "outputs": [
    {
     "data": {
      "text/plain": [
       "Index(['bedrooms', 'bathrooms', 'sqft', 'taxdollars', 'year', 'taxes', 'fips'], dtype='object')"
      ]
     },
     "execution_count": 20,
     "metadata": {},
     "output_type": "execute_result"
    }
   ],
   "source": [
    "zillow_df.columns"
   ]
  },
  {
   "cell_type": "code",
   "execution_count": 21,
   "id": "25d53fa0",
   "metadata": {},
   "outputs": [
    {
     "data": {
      "text/html": [
       "<div>\n",
       "<style scoped>\n",
       "    .dataframe tbody tr th:only-of-type {\n",
       "        vertical-align: middle;\n",
       "    }\n",
       "\n",
       "    .dataframe tbody tr th {\n",
       "        vertical-align: top;\n",
       "    }\n",
       "\n",
       "    .dataframe thead th {\n",
       "        text-align: right;\n",
       "    }\n",
       "</style>\n",
       "<table border=\"1\" class=\"dataframe\">\n",
       "  <thead>\n",
       "    <tr style=\"text-align: right;\">\n",
       "      <th></th>\n",
       "      <th>bedrooms</th>\n",
       "      <th>bathrooms</th>\n",
       "      <th>sqft</th>\n",
       "      <th>taxdollars</th>\n",
       "      <th>year</th>\n",
       "      <th>taxes</th>\n",
       "      <th>fips</th>\n",
       "    </tr>\n",
       "  </thead>\n",
       "  <tbody>\n",
       "    <tr>\n",
       "      <th>0</th>\n",
       "      <td>3.0</td>\n",
       "      <td>2.0</td>\n",
       "      <td>1710.0</td>\n",
       "      <td>475000.0</td>\n",
       "      <td>1966.0</td>\n",
       "      <td>6344.67</td>\n",
       "      <td>6037.0</td>\n",
       "    </tr>\n",
       "    <tr>\n",
       "      <th>1</th>\n",
       "      <td>3.0</td>\n",
       "      <td>2.0</td>\n",
       "      <td>1263.0</td>\n",
       "      <td>408200.0</td>\n",
       "      <td>1977.0</td>\n",
       "      <td>5529.20</td>\n",
       "      <td>6037.0</td>\n",
       "    </tr>\n",
       "    <tr>\n",
       "      <th>2</th>\n",
       "      <td>3.0</td>\n",
       "      <td>3.0</td>\n",
       "      <td>2207.0</td>\n",
       "      <td>683385.0</td>\n",
       "      <td>1975.0</td>\n",
       "      <td>8426.50</td>\n",
       "      <td>6037.0</td>\n",
       "    </tr>\n",
       "    <tr>\n",
       "      <th>3</th>\n",
       "      <td>4.0</td>\n",
       "      <td>3.0</td>\n",
       "      <td>2732.0</td>\n",
       "      <td>740116.0</td>\n",
       "      <td>1970.0</td>\n",
       "      <td>9135.51</td>\n",
       "      <td>6037.0</td>\n",
       "    </tr>\n",
       "    <tr>\n",
       "      <th>4</th>\n",
       "      <td>4.0</td>\n",
       "      <td>3.0</td>\n",
       "      <td>2712.0</td>\n",
       "      <td>803000.0</td>\n",
       "      <td>1976.0</td>\n",
       "      <td>9717.48</td>\n",
       "      <td>6037.0</td>\n",
       "    </tr>\n",
       "  </tbody>\n",
       "</table>\n",
       "</div>"
      ],
      "text/plain": [
       "   bedrooms  bathrooms    sqft  taxdollars    year    taxes    fips\n",
       "0       3.0        2.0  1710.0    475000.0  1966.0  6344.67  6037.0\n",
       "1       3.0        2.0  1263.0    408200.0  1977.0  5529.20  6037.0\n",
       "2       3.0        3.0  2207.0    683385.0  1975.0  8426.50  6037.0\n",
       "3       4.0        3.0  2732.0    740116.0  1970.0  9135.51  6037.0\n",
       "4       4.0        3.0  2712.0    803000.0  1976.0  9717.48  6037.0"
      ]
     },
     "execution_count": 21,
     "metadata": {},
     "output_type": "execute_result"
    }
   ],
   "source": [
    "zillow_df.head()"
   ]
  },
  {
   "cell_type": "code",
   "execution_count": 22,
   "id": "6d9ff1ff",
   "metadata": {},
   "outputs": [],
   "source": [
    "train, validate, test = w.train_validate_test(zillow_df)"
   ]
  },
  {
   "cell_type": "code",
   "execution_count": 23,
   "id": "1e55faeb",
   "metadata": {},
   "outputs": [
    {
     "data": {
      "text/plain": [
       "((44864, 7), (6730, 7), (4486, 7))"
      ]
     },
     "execution_count": 23,
     "metadata": {},
     "output_type": "execute_result"
    }
   ],
   "source": [
    "train.shape, validate.shape, test.shape"
   ]
  },
  {
   "cell_type": "code",
   "execution_count": 51,
   "id": "e24667dc",
   "metadata": {},
   "outputs": [
    {
     "data": {
      "text/html": [
       "<div>\n",
       "<style scoped>\n",
       "    .dataframe tbody tr th:only-of-type {\n",
       "        vertical-align: middle;\n",
       "    }\n",
       "\n",
       "    .dataframe tbody tr th {\n",
       "        vertical-align: top;\n",
       "    }\n",
       "\n",
       "    .dataframe thead th {\n",
       "        text-align: right;\n",
       "    }\n",
       "</style>\n",
       "<table border=\"1\" class=\"dataframe\">\n",
       "  <thead>\n",
       "    <tr style=\"text-align: right;\">\n",
       "      <th></th>\n",
       "      <th>bedrooms</th>\n",
       "      <th>bathrooms</th>\n",
       "      <th>sqft</th>\n",
       "      <th>taxdollars</th>\n",
       "      <th>year</th>\n",
       "      <th>taxes</th>\n",
       "      <th>fips</th>\n",
       "    </tr>\n",
       "  </thead>\n",
       "  <tbody>\n",
       "    <tr>\n",
       "      <th>55000</th>\n",
       "      <td>3.0</td>\n",
       "      <td>1.0</td>\n",
       "      <td>1225.0</td>\n",
       "      <td>282829.0</td>\n",
       "      <td>1948.0</td>\n",
       "      <td>3509.88</td>\n",
       "      <td>6037.0</td>\n",
       "    </tr>\n",
       "    <tr>\n",
       "      <th>5703</th>\n",
       "      <td>2.0</td>\n",
       "      <td>1.0</td>\n",
       "      <td>1085.0</td>\n",
       "      <td>152282.0</td>\n",
       "      <td>1950.0</td>\n",
       "      <td>2200.63</td>\n",
       "      <td>6037.0</td>\n",
       "    </tr>\n",
       "    <tr>\n",
       "      <th>4862</th>\n",
       "      <td>3.0</td>\n",
       "      <td>3.0</td>\n",
       "      <td>1701.0</td>\n",
       "      <td>554005.0</td>\n",
       "      <td>1984.0</td>\n",
       "      <td>7423.41</td>\n",
       "      <td>6037.0</td>\n",
       "    </tr>\n",
       "    <tr>\n",
       "      <th>53176</th>\n",
       "      <td>4.0</td>\n",
       "      <td>3.0</td>\n",
       "      <td>1980.0</td>\n",
       "      <td>138666.0</td>\n",
       "      <td>1962.0</td>\n",
       "      <td>2041.94</td>\n",
       "      <td>6059.0</td>\n",
       "    </tr>\n",
       "    <tr>\n",
       "      <th>16458</th>\n",
       "      <td>5.0</td>\n",
       "      <td>4.0</td>\n",
       "      <td>3094.0</td>\n",
       "      <td>796971.0</td>\n",
       "      <td>1989.0</td>\n",
       "      <td>8008.98</td>\n",
       "      <td>6059.0</td>\n",
       "    </tr>\n",
       "  </tbody>\n",
       "</table>\n",
       "</div>"
      ],
      "text/plain": [
       "       bedrooms  bathrooms    sqft  taxdollars    year    taxes    fips\n",
       "55000       3.0        1.0  1225.0    282829.0  1948.0  3509.88  6037.0\n",
       "5703        2.0        1.0  1085.0    152282.0  1950.0  2200.63  6037.0\n",
       "4862        3.0        3.0  1701.0    554005.0  1984.0  7423.41  6037.0\n",
       "53176       4.0        3.0  1980.0    138666.0  1962.0  2041.94  6059.0\n",
       "16458       5.0        4.0  3094.0    796971.0  1989.0  8008.98  6059.0"
      ]
     },
     "execution_count": 51,
     "metadata": {},
     "output_type": "execute_result"
    }
   ],
   "source": [
    "train.head()"
   ]
  },
  {
   "cell_type": "code",
   "execution_count": 31,
   "id": "e103b4b9",
   "metadata": {},
   "outputs": [],
   "source": [
    "x_train, y_train, x_validate, y_validate, x_test, y_test = w.xy_formula(train, validate, test)"
   ]
  },
  {
   "cell_type": "code",
   "execution_count": null,
   "id": "a72611ac",
   "metadata": {},
   "outputs": [],
   "source": []
  },
  {
   "cell_type": "markdown",
   "id": "0d325193",
   "metadata": {},
   "source": [
    "# MinMaxScaler"
   ]
  },
  {
   "cell_type": "code",
   "execution_count": 25,
   "id": "593a8d27",
   "metadata": {},
   "outputs": [],
   "source": [
    "mm_scaler = MinMaxScaler()\n",
    "\n",
    "mm_scaler.fit(x_train[['sqft', 'taxdollars']])\n",
    "\n",
    "x_train_scaled = mm_scaler.transform(x_train[['sqft', 'taxdollars']])\n",
    "x_validate_scaled = mm_scaler.transform(x_validate[['sqft', 'taxdollars']])\n",
    "x_test_scaled = mm_scaler.transform(x_test[['sqft', 'taxdollars']])\n",
    "\n",
    "plt.figure(figsize=(8, 6))\n",
    "plt.subplot(121)\n",
    "plt.hist(x_train, bins=25)\n",
    "plt.title('Original')\n",
    "plt.subplot(122)\n",
    "plt.hist(x_train_scaled, bins=25)\n",
    "plt.title('Scaled')\n",
    "\n",
    "plt.figure(figsize=(8, 6))\n",
    "plt.subplot(121)\n",
    "plt.hist(x_validate, bins=25,)\n",
    "plt.title('Original')\n",
    "plt.subplot(122)\n",
    "plt.hist(x_validate_scaled, bins=25)\n",
    "plt.title('Scaled')\n",
    "\n",
    "plt.figure(figsize=(8, 6))\n",
    "plt.subplot(121)\n",
    "plt.hist(x_test, bins=25)\n",
    "plt.title('Original')\n",
    "plt.subplot(122)\n",
    "plt.hist(x_test_scaled, bins=25)\n",
    "plt.title('Scaled')"
   ]
  },
  {
   "cell_type": "markdown",
   "id": "3f061d57",
   "metadata": {},
   "source": [
    "# Standard Scaler"
   ]
  },
  {
   "cell_type": "code",
   "execution_count": 62,
   "id": "413b424f",
   "metadata": {},
   "outputs": [],
   "source": [
    "ss_scaler = StandardScaler()\n",
    "\n",
    "ss_scaler.fit(train[['sqft', 'taxdollars']])\n",
    "\n",
    "ss_sqft = ss_scaler.transform(train[['sqft','taxdollars']])\n",
    "\n",
    "plt.subplot(121)\n",
    "plt.hist(train[['sqft', 'taxdollars']], bins=25)\n",
    "plt.title('Original data')\n",
    "\n",
    "plt.subplot(122)\n",
    "plt.hist(ss_sqft, bins=25)\n",
    "plt.title('Transformed data')\n",
    "plt.show()"
   ]
  },
  {
   "cell_type": "markdown",
   "id": "027315c0",
   "metadata": {},
   "source": [
    "# Robust Scaler"
   ]
  },
  {
   "cell_type": "code",
   "execution_count": 66,
   "id": "b12cf6eb",
   "metadata": {},
   "outputs": [],
   "source": [
    "from sklearn.preprocessing import RobustScaler\n",
    "\n",
    "x_train, y_train, x_validate, y_validate, x_test, y_test= w.xy_formula(train, validate, test)\n",
    "\n",
    "rs_scaler = RobustScaler()\n",
    "\n",
    "rs_scaler.fit(train[['sqft', 'taxdollars', 'taxes', ]])\n",
    "\n",
    "more_trouble = rs_scaler.transform((train[['sqft', 'taxdollars', 'taxes', ]]))\n",
    "\n",
    "plt.subplot(121)\n",
    "plt.hist(train[['sqft', 'taxdollars', 'taxes']], bins=8)\n",
    "plt.title('Original data')\n",
    "\n",
    "plt.subplot(122)\n",
    "plt.hist(more_trouble, bins=8)\n",
    "plt.title('Transformed data')\n",
    "plt.show()"
   ]
  },
  {
   "cell_type": "markdown",
   "id": "eb4c7f91",
   "metadata": {},
   "source": [
    "# Inverse Transform"
   ]
  },
  {
   "cell_type": "code",
   "execution_count": 75,
   "id": "61c4a598",
   "metadata": {},
   "outputs": [
    {
     "data": {
      "text/plain": [
       "Text(0.5, 1.0, 'Scaled')"
      ]
     },
     "execution_count": 75,
     "metadata": {},
     "output_type": "execute_result"
    },
    {
     "data": {
      "image/png": "[encoded data removed]",
      "text/plain": [
       "<Figure size 800x600 with 2 Axes>"
      ]
     },
     "metadata": {},
     "output_type": "display_data"
    },
    {
     "data": {
      "image/png": "[encoded data removed]",
      "text/plain": [
       "<Figure size 800x600 with 2 Axes>"
      ]
     },
     "metadata": {},
     "output_type": "display_data"
    },
    {
     "data": {
      "image/png": "[encoded data removed]",
      "text/plain": [
       "<Figure size 800x600 with 2 Axes>"
      ]
     },
     "metadata": {},
     "output_type": "display_data"
    }
   ],
   "source": [
    "mm_scaler = MinMaxScaler()\n",
    "\n",
    "mm_scaler.fit(x_train[['sqft', 'taxdollars']])\n",
    "\n",
    "x_train_scaled = mm_scaler.inverse_transform(x_train[['sqft', 'taxdollars']])\n",
    "x_validate_scaled = mm_scaler.inverse_transform(x_validate[['sqft', 'taxdollars']])\n",
    "x_test_scaled = mm_scaler.inverse_transform(x_test[['sqft', 'taxdollars']])\n",
    "\n",
    "plt.figure(figsize=(8, 6))\n",
    "plt.subplot(121)\n",
    "plt.hist(x_train, bins=25)\n",
    "plt.title('Original')\n",
    "plt.subplot(122)\n",
    "plt.hist(x_train_scaled, bins=25)\n",
    "plt.title('Scaled')\n",
    "\n",
    "plt.figure(figsize=(8, 6))\n",
    "plt.subplot(121)\n",
    "plt.hist(x_validate, bins=25,)\n",
    "plt.title('Original')\n",
    "plt.subplot(122)\n",
    "plt.hist(x_validate_scaled, bins=25)\n",
    "plt.title('Scaled')\n",
    "\n",
    "plt.figure(figsize=(8, 6))\n",
    "plt.subplot(121)\n",
    "plt.hist(x_test, bins=25)\n",
    "plt.title('Original')\n",
    "plt.subplot(122)\n",
    "plt.hist(x_test_scaled, bins=25)\n",
    "plt.title('Scaled')"
   ]
  },
  {
   "cell_type": "code",
   "execution_count": 74,
   "id": "3609d3a7",
   "metadata": {},
   "outputs": [
    {
     "data": {
      "image/png": "[encoded data removed]",
      "text/plain": [
       "<Figure size 640x480 with 2 Axes>"
      ]
     },
     "metadata": {},
     "output_type": "display_data"
    }
   ],
   "source": [
    "ss_scaler = StandardScaler()\n",
    "\n",
    "ss_scaler.fit(train[['sqft', 'taxdollars']])\n",
    "\n",
    "ss_sqft = ss_scaler.inverse_transform(train[['sqft','taxdollars']])\n",
    "\n",
    "plt.subplot(121)\n",
    "plt.hist(train[['sqft', 'taxdollars']], bins=25)\n",
    "plt.title('Original data')\n",
    "\n",
    "plt.subplot(122)\n",
    "plt.hist(ss_sqft, bins=25)\n",
    "plt.title('Transformed data')\n",
    "plt.show()"
   ]
  },
  {
   "cell_type": "code",
   "execution_count": 73,
   "id": "4d27be79",
   "metadata": {},
   "outputs": [
    {
     "data": {
      "image/png": "[encoded data removed]",
      "text/plain": [
       "<Figure size 640x480 with 2 Axes>"
      ]
     },
     "metadata": {},
     "output_type": "display_data"
    }
   ],
   "source": [
    "x_train, y_train, x_validate, y_validate, x_test, y_test= w.xy_formula(train, validate, test)\n",
    "\n",
    "rs_scaler = RobustScaler()\n",
    "\n",
    "rs_scaler.fit(train[['sqft', 'taxdollars', 'taxes', ]])\n",
    "\n",
    "more_trouble = rs_scaler.inverse_transform((train[['sqft', 'taxdollars', 'taxes', ]]))\n",
    "\n",
    "plt.subplot(121)\n",
    "plt.hist(train[['sqft', 'taxdollars', 'taxes']], bins=8)\n",
    "plt.title('Original data')\n",
    "\n",
    "plt.subplot(122)\n",
    "plt.hist(more_trouble, bins=8)\n",
    "plt.title('Transformed data')\n",
    "plt.show()"
   ]
  },
  {
   "cell_type": "markdown",
   "id": "a96e0945",
   "metadata": {},
   "source": [
    "# Quantile Transformer"
   ]
  },
  {
   "cell_type": "code",
   "execution_count": 79,
   "id": "23f71e66",
   "metadata": {},
   "outputs": [],
   "source": [
    "qt= quantile_transform(x_train, output_distribution='normal')"
   ]
  },
  {
   "cell_type": "code",
   "execution_count": 86,
   "id": "e00a969a",
   "metadata": {},
   "outputs": [],
   "source": []
  },
  {
   "cell_type": "code",
   "execution_count": 96,
   "id": "ae0da583",
   "metadata": {},
   "outputs": [
    {
     "data": {
      "text/plain": [
       "<AxesSubplot: xlabel='bathrooms', ylabel='Count'>"
      ]
     },
     "execution_count": 96,
     "metadata": {},
     "output_type": "execute_result"
    },
    {
     "data": {
      "image/png": "[encoded data removed]",
      "text/plain": [
       "<Figure size 640x480 with 1 Axes>"
      ]
     },
     "metadata": {},
     "output_type": "display_data"
    }
   ],
   "source": [
    "sns.histplot(qt, x=x_train['bathrooms'], bins=25)"
   ]
  },
  {
   "cell_type": "code",
   "execution_count": null,
   "id": "489a4aa4",
   "metadata": {},
   "outputs": [],
   "source": []
  },
  {
   "cell_type": "code",
   "execution_count": null,
   "id": "85b1c655",
   "metadata": {},
   "outputs": [],
   "source": []
  }
 ],
 "metadata": {
  "kernelspec": {
   "display_name": "Python 3 (ipykernel)",
   "language": "python",
   "name": "python3"
  },
  "language_info": {
   "codemirror_mode": {
    "name": "ipython",
    "version": 3
   },
   "file_extension": ".py",
   "mimetype": "text/x-python",
   "name": "python",
   "nbconvert_exporter": "python",
   "pygments_lexer": "ipython3",
   "version": "3.9.13"
  }
 },
 "nbformat": 4,
 "nbformat_minor": 5
}
