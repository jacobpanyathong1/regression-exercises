{
 "cells": [
  {
   "cell_type": "code",
   "execution_count": 1,
   "id": "ff0e1306",
   "metadata": {},
   "outputs": [],
   "source": [
    "import pandas as pd\n",
    "import os\n",
    "from env import get_connection\n",
    "import wrangle as w"
   ]
  },
  {
   "cell_type": "code",
   "execution_count": null,
   "id": "ce7de4c9",
   "metadata": {},
   "outputs": [],
   "source": []
  },
  {
   "cell_type": "code",
   "execution_count": 2,
   "id": "3d725b67",
   "metadata": {},
   "outputs": [],
   "source": [
    "df= w.sql_query_zillow()"
   ]
  },
  {
   "cell_type": "code",
   "execution_count": 3,
   "id": "0f54a5f0",
   "metadata": {},
   "outputs": [
    {
     "data": {
      "text/html": [
       "<div>\n",
       "<style scoped>\n",
       "    .dataframe tbody tr th:only-of-type {\n",
       "        vertical-align: middle;\n",
       "    }\n",
       "\n",
       "    .dataframe tbody tr th {\n",
       "        vertical-align: top;\n",
       "    }\n",
       "\n",
       "    .dataframe thead th {\n",
       "        text-align: right;\n",
       "    }\n",
       "</style>\n",
       "<table border=\"1\" class=\"dataframe\">\n",
       "  <thead>\n",
       "    <tr style=\"text-align: right;\">\n",
       "      <th></th>\n",
       "      <th>bedroomcnt</th>\n",
       "      <th>bathroomcnt</th>\n",
       "      <th>calculatedfinishedsquarefeet</th>\n",
       "      <th>taxvaluedollarcnt</th>\n",
       "      <th>yearbuilt</th>\n",
       "      <th>taxamount</th>\n",
       "      <th>fips</th>\n",
       "    </tr>\n",
       "  </thead>\n",
       "  <tbody>\n",
       "    <tr>\n",
       "      <th>0</th>\n",
       "      <td>3.0</td>\n",
       "      <td>2.0</td>\n",
       "      <td>1710.0</td>\n",
       "      <td>475000.0</td>\n",
       "      <td>1966.0</td>\n",
       "      <td>6344.67</td>\n",
       "      <td>6037.0</td>\n",
       "    </tr>\n",
       "    <tr>\n",
       "      <th>1</th>\n",
       "      <td>3.0</td>\n",
       "      <td>2.0</td>\n",
       "      <td>1263.0</td>\n",
       "      <td>408200.0</td>\n",
       "      <td>1977.0</td>\n",
       "      <td>5529.20</td>\n",
       "      <td>6037.0</td>\n",
       "    </tr>\n",
       "    <tr>\n",
       "      <th>2</th>\n",
       "      <td>3.0</td>\n",
       "      <td>3.0</td>\n",
       "      <td>2207.0</td>\n",
       "      <td>683385.0</td>\n",
       "      <td>1975.0</td>\n",
       "      <td>8426.50</td>\n",
       "      <td>6037.0</td>\n",
       "    </tr>\n",
       "    <tr>\n",
       "      <th>3</th>\n",
       "      <td>4.0</td>\n",
       "      <td>3.0</td>\n",
       "      <td>2732.0</td>\n",
       "      <td>740116.0</td>\n",
       "      <td>1970.0</td>\n",
       "      <td>9135.51</td>\n",
       "      <td>6037.0</td>\n",
       "    </tr>\n",
       "    <tr>\n",
       "      <th>4</th>\n",
       "      <td>4.0</td>\n",
       "      <td>3.0</td>\n",
       "      <td>2712.0</td>\n",
       "      <td>803000.0</td>\n",
       "      <td>1976.0</td>\n",
       "      <td>9717.48</td>\n",
       "      <td>6037.0</td>\n",
       "    </tr>\n",
       "  </tbody>\n",
       "</table>\n",
       "</div>"
      ],
      "text/plain": [
       "   bedroomcnt  bathroomcnt  calculatedfinishedsquarefeet  taxvaluedollarcnt  \\\n",
       "0         3.0          2.0                        1710.0           475000.0   \n",
       "1         3.0          2.0                        1263.0           408200.0   \n",
       "2         3.0          3.0                        2207.0           683385.0   \n",
       "3         4.0          3.0                        2732.0           740116.0   \n",
       "4         4.0          3.0                        2712.0           803000.0   \n",
       "\n",
       "   yearbuilt  taxamount    fips  \n",
       "0     1966.0    6344.67  6037.0  \n",
       "1     1977.0    5529.20  6037.0  \n",
       "2     1975.0    8426.50  6037.0  \n",
       "3     1970.0    9135.51  6037.0  \n",
       "4     1976.0    9717.48  6037.0  "
      ]
     },
     "execution_count": 3,
     "metadata": {},
     "output_type": "execute_result"
    }
   ],
   "source": [
    "df.head()"
   ]
  },
  {
   "cell_type": "code",
   "execution_count": 4,
   "id": "edc190e9",
   "metadata": {},
   "outputs": [
    {
     "name": "stdout",
     "output_type": "stream",
     "text": [
      "<class 'pandas.core.frame.DataFrame'>\n",
      "RangeIndex: 56080 entries, 0 to 56079\n",
      "Data columns (total 7 columns):\n",
      " #   Column                        Non-Null Count  Dtype  \n",
      "---  ------                        --------------  -----  \n",
      " 0   bedroomcnt                    56080 non-null  float64\n",
      " 1   bathroomcnt                   56080 non-null  float64\n",
      " 2   calculatedfinishedsquarefeet  55849 non-null  float64\n",
      " 3   taxvaluedollarcnt             56072 non-null  float64\n",
      " 4   yearbuilt                     55831 non-null  float64\n",
      " 5   taxamount                     55950 non-null  float64\n",
      " 6   fips                          56080 non-null  float64\n",
      "dtypes: float64(7)\n",
      "memory usage: 3.0 MB\n"
     ]
    }
   ],
   "source": [
    "df.info()"
   ]
  },
  {
   "cell_type": "code",
   "execution_count": 5,
   "id": "21449070",
   "metadata": {},
   "outputs": [
    {
     "data": {
      "text/html": [
       "<div>\n",
       "<style scoped>\n",
       "    .dataframe tbody tr th:only-of-type {\n",
       "        vertical-align: middle;\n",
       "    }\n",
       "\n",
       "    .dataframe tbody tr th {\n",
       "        vertical-align: top;\n",
       "    }\n",
       "\n",
       "    .dataframe thead th {\n",
       "        text-align: right;\n",
       "    }\n",
       "</style>\n",
       "<table border=\"1\" class=\"dataframe\">\n",
       "  <thead>\n",
       "    <tr style=\"text-align: right;\">\n",
       "      <th></th>\n",
       "      <th>bedroomcnt</th>\n",
       "      <th>bathroomcnt</th>\n",
       "      <th>calculatedfinishedsquarefeet</th>\n",
       "      <th>taxvaluedollarcnt</th>\n",
       "      <th>yearbuilt</th>\n",
       "      <th>taxamount</th>\n",
       "      <th>fips</th>\n",
       "    </tr>\n",
       "  </thead>\n",
       "  <tbody>\n",
       "    <tr>\n",
       "      <th>count</th>\n",
       "      <td>56080.000000</td>\n",
       "      <td>56080.000000</td>\n",
       "      <td>55849.000000</td>\n",
       "      <td>5.607200e+04</td>\n",
       "      <td>55831.000000</td>\n",
       "      <td>5.595000e+04</td>\n",
       "      <td>56080.000000</td>\n",
       "    </tr>\n",
       "    <tr>\n",
       "      <th>mean</th>\n",
       "      <td>3.289123</td>\n",
       "      <td>2.239470</td>\n",
       "      <td>1868.289119</td>\n",
       "      <td>4.576376e+05</td>\n",
       "      <td>1961.186778</td>\n",
       "      <td>5.589308e+03</td>\n",
       "      <td>6048.841369</td>\n",
       "    </tr>\n",
       "    <tr>\n",
       "      <th>std</th>\n",
       "      <td>0.958752</td>\n",
       "      <td>1.007008</td>\n",
       "      <td>966.964755</td>\n",
       "      <td>6.635536e+05</td>\n",
       "      <td>21.995312</td>\n",
       "      <td>8.541744e+03</td>\n",
       "      <td>21.237479</td>\n",
       "    </tr>\n",
       "    <tr>\n",
       "      <th>min</th>\n",
       "      <td>0.000000</td>\n",
       "      <td>0.000000</td>\n",
       "      <td>20.000000</td>\n",
       "      <td>9.000000e+00</td>\n",
       "      <td>1862.000000</td>\n",
       "      <td>8.300000e+00</td>\n",
       "      <td>6037.000000</td>\n",
       "    </tr>\n",
       "    <tr>\n",
       "      <th>25%</th>\n",
       "      <td>3.000000</td>\n",
       "      <td>2.000000</td>\n",
       "      <td>1260.000000</td>\n",
       "      <td>1.870240e+05</td>\n",
       "      <td>1949.000000</td>\n",
       "      <td>2.523483e+03</td>\n",
       "      <td>6037.000000</td>\n",
       "    </tr>\n",
       "    <tr>\n",
       "      <th>50%</th>\n",
       "      <td>3.000000</td>\n",
       "      <td>2.000000</td>\n",
       "      <td>1630.000000</td>\n",
       "      <td>3.295225e+05</td>\n",
       "      <td>1958.000000</td>\n",
       "      <td>4.130460e+03</td>\n",
       "      <td>6037.000000</td>\n",
       "    </tr>\n",
       "    <tr>\n",
       "      <th>75%</th>\n",
       "      <td>4.000000</td>\n",
       "      <td>3.000000</td>\n",
       "      <td>2217.000000</td>\n",
       "      <td>5.334408e+05</td>\n",
       "      <td>1976.000000</td>\n",
       "      <td>6.410505e+03</td>\n",
       "      <td>6059.000000</td>\n",
       "    </tr>\n",
       "    <tr>\n",
       "      <th>max</th>\n",
       "      <td>25.000000</td>\n",
       "      <td>20.000000</td>\n",
       "      <td>26345.000000</td>\n",
       "      <td>6.750649e+07</td>\n",
       "      <td>2016.000000</td>\n",
       "      <td>1.195296e+06</td>\n",
       "      <td>6111.000000</td>\n",
       "    </tr>\n",
       "  </tbody>\n",
       "</table>\n",
       "</div>"
      ],
      "text/plain": [
       "         bedroomcnt   bathroomcnt  calculatedfinishedsquarefeet  \\\n",
       "count  56080.000000  56080.000000                  55849.000000   \n",
       "mean       3.289123      2.239470                   1868.289119   \n",
       "std        0.958752      1.007008                    966.964755   \n",
       "min        0.000000      0.000000                     20.000000   \n",
       "25%        3.000000      2.000000                   1260.000000   \n",
       "50%        3.000000      2.000000                   1630.000000   \n",
       "75%        4.000000      3.000000                   2217.000000   \n",
       "max       25.000000     20.000000                  26345.000000   \n",
       "\n",
       "       taxvaluedollarcnt     yearbuilt     taxamount          fips  \n",
       "count       5.607200e+04  55831.000000  5.595000e+04  56080.000000  \n",
       "mean        4.576376e+05   1961.186778  5.589308e+03   6048.841369  \n",
       "std         6.635536e+05     21.995312  8.541744e+03     21.237479  \n",
       "min         9.000000e+00   1862.000000  8.300000e+00   6037.000000  \n",
       "25%         1.870240e+05   1949.000000  2.523483e+03   6037.000000  \n",
       "50%         3.295225e+05   1958.000000  4.130460e+03   6037.000000  \n",
       "75%         5.334408e+05   1976.000000  6.410505e+03   6059.000000  \n",
       "max         6.750649e+07   2016.000000  1.195296e+06   6111.000000  "
      ]
     },
     "execution_count": 5,
     "metadata": {},
     "output_type": "execute_result"
    }
   ],
   "source": [
    "df.describe()"
   ]
  },
  {
   "cell_type": "code",
   "execution_count": 28,
   "id": "76b62df3",
   "metadata": {},
   "outputs": [
    {
     "data": {
      "text/plain": [
       "bedroomcnt                        0\n",
       "bathroomcnt                       0\n",
       "calculatedfinishedsquarefeet      0\n",
       "taxvaluedollarcnt                 0\n",
       "yearbuilt                         0\n",
       "taxamount                       130\n",
       "fips                              0\n",
       "dtype: int64"
      ]
     },
     "execution_count": 28,
     "metadata": {},
     "output_type": "execute_result"
    }
   ],
   "source": [
    "df.isna().sum()"
   ]
  },
  {
   "cell_type": "code",
   "execution_count": 15,
   "id": "4ff7df63",
   "metadata": {},
   "outputs": [
    {
     "data": {
      "text/plain": [
       "1868.2891188741069"
      ]
     },
     "execution_count": 15,
     "metadata": {},
     "output_type": "execute_result"
    }
   ],
   "source": [
    "df.calculatedfinishedsquarefeet.mean()"
   ]
  },
  {
   "cell_type": "code",
   "execution_count": 21,
   "id": "d3e6468d",
   "metadata": {},
   "outputs": [],
   "source": [
    "df.calculatedfinishedsquarefeet.fillna(value=1868.28, inplace=True) #fillna mean for sqft"
   ]
  },
  {
   "cell_type": "code",
   "execution_count": 25,
   "id": "21c6cd39",
   "metadata": {},
   "outputs": [],
   "source": [
    "df.taxvaluedollarcnt.fillna(value=4.58, inplace=True) #fillna mean for dollar"
   ]
  },
  {
   "cell_type": "code",
   "execution_count": 27,
   "id": "36511833",
   "metadata": {},
   "outputs": [],
   "source": [
    "df.yearbuilt.fillna(value=1961.19, inplace=True) #fillna mean for yearbuilt"
   ]
  },
  {
   "cell_type": "code",
   "execution_count": 30,
   "id": "05691228",
   "metadata": {},
   "outputs": [],
   "source": [
    "df.taxamount.fillna(value=5.59, inplace=True) #fillna mean for taxamount"
   ]
  },
  {
   "cell_type": "code",
   "execution_count": null,
   "id": "9b1e69c4",
   "metadata": {},
   "outputs": [],
   "source": []
  }
 ],
 "metadata": {
  "kernelspec": {
   "display_name": "Python 3 (ipykernel)",
   "language": "python",
   "name": "python3"
  },
  "language_info": {
   "codemirror_mode": {
    "name": "ipython",
    "version": 3
   },
   "file_extension": ".py",
   "mimetype": "text/x-python",
   "name": "python",
   "nbconvert_exporter": "python",
   "pygments_lexer": "ipython3",
   "version": "3.9.13"
  }
 },
 "nbformat": 4,
 "nbformat_minor": 5
}
